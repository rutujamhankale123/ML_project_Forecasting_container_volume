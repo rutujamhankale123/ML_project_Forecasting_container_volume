{
 "cells": [
  {
   "cell_type": "markdown",
   "id": "74c68fc6",
   "metadata": {},
   "source": [
    "Naïve Model: Predict the next point in the series to be the last observed value.\n",
    "\n",
    "Mean Model: Predict the next point in the series to be the mean of all previous observed values."
   ]
  },
  {
   "cell_type": "code",
   "execution_count": null,
   "id": "9bb3958b",
   "metadata": {},
   "outputs": [],
   "source": [
    "import pandas as pd\n",
    "\n",
    "# Load the uploaded CSV file\n",
    "data = pd.read_csv('incoming_daily_till2023may_interpolated.csv')\n",
    "\n",
    "# Display the first few rows of the dataset\n",
    "data.head()\n"
   ]
  },
  {
   "cell_type": "code",
   "execution_count": 5,
   "id": "c5c86a06",
   "metadata": {},
   "outputs": [
    {
     "data": {
      "text/plain": [
       "(704, 177)"
      ]
     },
     "execution_count": 5,
     "metadata": {},
     "output_type": "execute_result"
    }
   ],
   "source": [
    "# Splitting data into training and test sets (80% train, 20% test)\n",
    "train_size = int(len(data) * 0.8)\n",
    "train, test = data[0:train_size], data[train_size:]\n",
    "\n",
    "# Display the size of each dataset\n",
    "len(train), len(test)\n"
   ]
  },
  {
   "cell_type": "code",
   "execution_count": 6,
   "id": "aadbc152",
   "metadata": {},
   "outputs": [
    {
     "data": {
      "text/html": [
       "<div>\n",
       "<style scoped>\n",
       "    .dataframe tbody tr th:only-of-type {\n",
       "        vertical-align: middle;\n",
       "    }\n",
       "\n",
       "    .dataframe tbody tr th {\n",
       "        vertical-align: top;\n",
       "    }\n",
       "\n",
       "    .dataframe thead th {\n",
       "        text-align: right;\n",
       "    }\n",
       "</style>\n",
       "<table border=\"1\" class=\"dataframe\">\n",
       "  <thead>\n",
       "    <tr style=\"text-align: right;\">\n",
       "      <th></th>\n",
       "      <th>Model</th>\n",
       "      <th>MAE</th>\n",
       "      <th>RMSE</th>\n",
       "      <th>MAPE</th>\n",
       "      <th>MSE</th>\n",
       "      <th>Theil's U2</th>\n",
       "    </tr>\n",
       "  </thead>\n",
       "  <tbody>\n",
       "    <tr>\n",
       "      <th>0</th>\n",
       "      <td>Naïve</td>\n",
       "      <td>571.637006</td>\n",
       "      <td>718.251915</td>\n",
       "      <td>803.773886</td>\n",
       "      <td>515885.813206</td>\n",
       "      <td>0.302777</td>\n",
       "    </tr>\n",
       "    <tr>\n",
       "      <th>1</th>\n",
       "      <td>Mean</td>\n",
       "      <td>686.395017</td>\n",
       "      <td>750.143559</td>\n",
       "      <td>379.550004</td>\n",
       "      <td>562715.358706</td>\n",
       "      <td>0.440389</td>\n",
       "    </tr>\n",
       "  </tbody>\n",
       "</table>\n",
       "</div>"
      ],
      "text/plain": [
       "   Model         MAE        RMSE        MAPE            MSE  Theil's U2\n",
       "0  Naïve  571.637006  718.251915  803.773886  515885.813206    0.302777\n",
       "1   Mean  686.395017  750.143559  379.550004  562715.358706    0.440389"
      ]
     },
     "execution_count": 6,
     "metadata": {},
     "output_type": "execute_result"
    }
   ],
   "source": [
    "import numpy as np\n",
    "from sklearn.metrics import mean_squared_error, mean_absolute_error\n",
    "\n",
    "# Naïve forecast\n",
    "naive_forecast = test.copy()\n",
    "naive_forecast['forecast'] = train['volume'].iloc[-1]  # Last observed value from training set\n",
    "\n",
    "# Mean forecast\n",
    "mean_forecast = test.copy()\n",
    "mean_forecast['forecast'] = train['volume'].mean()  # Mean of all observed values in training set\n",
    "\n",
    "def mean_absolute_percentage_error(y_true, y_pred): \n",
    "    return np.mean(np.abs((y_true - y_pred) / y_true)) * 100\n",
    "\n",
    "def theil_u(y_true, y_pred):\n",
    "    n = len(y_true)\n",
    "    num = np.sqrt((1/n) * np.sum(np.square(y_true - y_pred)))\n",
    "    den = np.sqrt((1/n) * np.sum(np.square(y_true))) + np.sqrt((1/n) * np.sum(np.square(y_pred)))\n",
    "    return num / den\n",
    "\n",
    "# Calculate evaluation metrics for each model\n",
    "metrics = {\n",
    "    'Model': ['Naïve', 'Mean'],\n",
    "    'MAE': [\n",
    "        mean_absolute_error(test['volume'], naive_forecast['forecast']),\n",
    "        mean_absolute_error(test['volume'], mean_forecast['forecast'])\n",
    "    ],\n",
    "    'RMSE': [\n",
    "        np.sqrt(mean_squared_error(test['volume'], naive_forecast['forecast'])),\n",
    "        np.sqrt(mean_squared_error(test['volume'], mean_forecast['forecast']))\n",
    "    ],\n",
    "    'MAPE': [\n",
    "        mean_absolute_percentage_error(test['volume'], naive_forecast['forecast']),\n",
    "        mean_absolute_percentage_error(test['volume'], mean_forecast['forecast'])\n",
    "    ],\n",
    "    'MSE': [\n",
    "        mean_squared_error(test['volume'], naive_forecast['forecast']),\n",
    "        mean_squared_error(test['volume'], mean_forecast['forecast'])\n",
    "    ],\n",
    "    \"Theil's U2\": [\n",
    "        theil_u(test['volume'], naive_forecast['forecast']),\n",
    "        theil_u(test['volume'], mean_forecast['forecast'])\n",
    "    ]\n",
    "}\n",
    "\n",
    "# Convert metrics to DataFrame for better display\n",
    "metrics_df = pd.DataFrame(metrics)\n",
    "metrics_df\n"
   ]
  },
  {
   "cell_type": "markdown",
   "id": "4af2e108",
   "metadata": {},
   "source": [
    "The Naïve model has a lower MAE, RMSE, MSE, and Theil's U2 compared to the Mean model, indicating that it performs better in this dataset.\n",
    "However, the Mean model has a lower MAPE, meaning it's better in terms of percentage errors for this dataset.\n",
    "These baseline models provide a starting point for evaluating more sophisticated forecasting models. Depending on the context and the domain, you might want to consider more advanced models like ARIMA, Exponential Smoothing, or machine learning-based approaches for forecasting."
   ]
  },
  {
   "cell_type": "code",
   "execution_count": null,
   "id": "30a7cddb",
   "metadata": {},
   "outputs": [],
   "source": []
  }
 ],
 "metadata": {
  "kernelspec": {
   "display_name": "Python 3 (ipykernel)",
   "language": "python",
   "name": "python3"
  },
  "language_info": {
   "codemirror_mode": {
    "name": "ipython",
    "version": 3
   },
   "file_extension": ".py",
   "mimetype": "text/x-python",
   "name": "python",
   "nbconvert_exporter": "python",
   "pygments_lexer": "ipython3",
   "version": "3.9.13"
  }
 },
 "nbformat": 4,
 "nbformat_minor": 5
}
