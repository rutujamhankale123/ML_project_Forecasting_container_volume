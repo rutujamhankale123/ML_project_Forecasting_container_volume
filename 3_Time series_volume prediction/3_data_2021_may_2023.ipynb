{
 "cells": [
  {
   "cell_type": "code",
   "execution_count": 1,
   "id": "70982aa9",
   "metadata": {},
   "outputs": [],
   "source": [
    "import pandas as pd\n",
    "import numpy as np\n",
    "\n",
    "import matplotlib.pyplot as plt\n",
    "plt.rcParams['figure.figsize'] = [16, 4]\n",
    "\n",
    "import seaborn as sns\n",
    "sns.set_theme(palette=\"Set2\")"
   ]
  },
  {
   "cell_type": "code",
   "execution_count": 2,
   "id": "fd5e5139",
   "metadata": {},
   "outputs": [],
   "source": [
    "df = pd.read_csv(\"incoming_orders.csv\")"
   ]
  },
  {
   "cell_type": "code",
   "execution_count": 3,
   "id": "f8ee16d4",
   "metadata": {},
   "outputs": [
    {
     "name": "stdout",
     "output_type": "stream",
     "text": [
      "<class 'pandas.core.frame.DataFrame'>\n",
      "RangeIndex: 63147 entries, 0 to 63146\n",
      "Data columns (total 8 columns):\n",
      " #   Column            Non-Null Count  Dtype  \n",
      "---  ------            --------------  -----  \n",
      " 0   delivery_date     63147 non-null  object \n",
      " 1   date              63147 non-null  object \n",
      " 2   time              63147 non-null  object \n",
      " 3   client_name       63147 non-null  object \n",
      " 4   order_direction   63147 non-null  object \n",
      " 5   material_name     63147 non-null  object \n",
      " 6   container_volumn  63147 non-null  float64\n",
      " 7   date_time         63147 non-null  object \n",
      "dtypes: float64(1), object(7)\n",
      "memory usage: 3.9+ MB\n"
     ]
    }
   ],
   "source": [
    "df.info()"
   ]
  },
  {
   "cell_type": "code",
   "execution_count": 4,
   "id": "c4a8257f",
   "metadata": {},
   "outputs": [
    {
     "data": {
      "text/html": [
       "<div>\n",
       "<style scoped>\n",
       "    .dataframe tbody tr th:only-of-type {\n",
       "        vertical-align: middle;\n",
       "    }\n",
       "\n",
       "    .dataframe tbody tr th {\n",
       "        vertical-align: top;\n",
       "    }\n",
       "\n",
       "    .dataframe thead th {\n",
       "        text-align: right;\n",
       "    }\n",
       "</style>\n",
       "<table border=\"1\" class=\"dataframe\">\n",
       "  <thead>\n",
       "    <tr style=\"text-align: right;\">\n",
       "      <th></th>\n",
       "      <th>delivery_date</th>\n",
       "      <th>date</th>\n",
       "      <th>time</th>\n",
       "      <th>client_name</th>\n",
       "      <th>order_direction</th>\n",
       "      <th>material_name</th>\n",
       "      <th>container_volumn</th>\n",
       "      <th>date_time</th>\n",
       "    </tr>\n",
       "  </thead>\n",
       "  <tbody>\n",
       "    <tr>\n",
       "      <th>0</th>\n",
       "      <td>2023-04-24T08:06:58.799Z</td>\n",
       "      <td>2023-04-24</td>\n",
       "      <td>08:06:58</td>\n",
       "      <td>STG Transport &amp; Containerdienst GmbH</td>\n",
       "      <td>Abziehen</td>\n",
       "      <td>Sand 0-2</td>\n",
       "      <td>11.0</td>\n",
       "      <td>2023-04-24 08:06:58</td>\n",
       "    </tr>\n",
       "    <tr>\n",
       "      <th>1</th>\n",
       "      <td>2023-04-24T22:00:00.000Z</td>\n",
       "      <td>2023-04-24</td>\n",
       "      <td>22:00:00</td>\n",
       "      <td>STG Transport &amp; Containerdienst GmbH</td>\n",
       "      <td>Abziehen</td>\n",
       "      <td>Sand 0-2</td>\n",
       "      <td>11.0</td>\n",
       "      <td>2023-04-24 22:00:00</td>\n",
       "    </tr>\n",
       "    <tr>\n",
       "      <th>2</th>\n",
       "      <td>2022-08-10T22:00:00.000Z</td>\n",
       "      <td>2022-08-10</td>\n",
       "      <td>22:00:00</td>\n",
       "      <td>STG Transport &amp; Containerdienst GmbH</td>\n",
       "      <td>Abziehen</td>\n",
       "      <td>Erdaushub AVV-Nr.: 17 05 04</td>\n",
       "      <td>11.0</td>\n",
       "      <td>2022-08-10 22:00:00</td>\n",
       "    </tr>\n",
       "    <tr>\n",
       "      <th>3</th>\n",
       "      <td>2022-08-23T08:18:29.075Z</td>\n",
       "      <td>2022-08-23</td>\n",
       "      <td>08:18:29</td>\n",
       "      <td>STG Transport &amp; Containerdienst GmbH</td>\n",
       "      <td>Leeren</td>\n",
       "      <td>Erdaushub AVV-Nr.: 17 05 04</td>\n",
       "      <td>11.0</td>\n",
       "      <td>2022-08-23 08:18:29</td>\n",
       "    </tr>\n",
       "    <tr>\n",
       "      <th>4</th>\n",
       "      <td>2022-08-24T05:08:17.343Z</td>\n",
       "      <td>2022-08-24</td>\n",
       "      <td>05:08:17</td>\n",
       "      <td>STG Transport &amp; Containerdienst GmbH</td>\n",
       "      <td>Leeren</td>\n",
       "      <td>Erdaushub AVV-Nr.: 17 05 04</td>\n",
       "      <td>11.0</td>\n",
       "      <td>2022-08-24 05:08:17</td>\n",
       "    </tr>\n",
       "  </tbody>\n",
       "</table>\n",
       "</div>"
      ],
      "text/plain": [
       "              delivery_date        date      time  \\\n",
       "0  2023-04-24T08:06:58.799Z  2023-04-24  08:06:58   \n",
       "1  2023-04-24T22:00:00.000Z  2023-04-24  22:00:00   \n",
       "2  2022-08-10T22:00:00.000Z  2022-08-10  22:00:00   \n",
       "3  2022-08-23T08:18:29.075Z  2022-08-23  08:18:29   \n",
       "4  2022-08-24T05:08:17.343Z  2022-08-24  05:08:17   \n",
       "\n",
       "                            client_name order_direction  \\\n",
       "0  STG Transport & Containerdienst GmbH        Abziehen   \n",
       "1  STG Transport & Containerdienst GmbH        Abziehen   \n",
       "2  STG Transport & Containerdienst GmbH        Abziehen   \n",
       "3  STG Transport & Containerdienst GmbH          Leeren   \n",
       "4  STG Transport & Containerdienst GmbH          Leeren   \n",
       "\n",
       "                 material_name  container_volumn            date_time  \n",
       "0                     Sand 0-2              11.0  2023-04-24 08:06:58  \n",
       "1                     Sand 0-2              11.0  2023-04-24 22:00:00  \n",
       "2  Erdaushub AVV-Nr.: 17 05 04              11.0  2022-08-10 22:00:00  \n",
       "3  Erdaushub AVV-Nr.: 17 05 04              11.0  2022-08-23 08:18:29  \n",
       "4  Erdaushub AVV-Nr.: 17 05 04              11.0  2022-08-24 05:08:17  "
      ]
     },
     "execution_count": 4,
     "metadata": {},
     "output_type": "execute_result"
    }
   ],
   "source": [
    "df.head()"
   ]
  },
  {
   "cell_type": "code",
   "execution_count": 5,
   "id": "e7872294",
   "metadata": {},
   "outputs": [],
   "source": [
    "# Assuming 'timestamp' is the column containing the irregular timestamps and 'value' is the column containing the volume data\n",
    "df['date_time'] = pd.to_datetime(df['date_time'],format=\"%Y/%m/%d\")"
   ]
  },
  {
   "cell_type": "code",
   "execution_count": 6,
   "id": "bc1320a1",
   "metadata": {},
   "outputs": [
    {
     "name": "stdout",
     "output_type": "stream",
     "text": [
      "<class 'pandas.core.frame.DataFrame'>\n",
      "RangeIndex: 63147 entries, 0 to 63146\n",
      "Data columns (total 8 columns):\n",
      " #   Column            Non-Null Count  Dtype         \n",
      "---  ------            --------------  -----         \n",
      " 0   delivery_date     63147 non-null  object        \n",
      " 1   date              63147 non-null  object        \n",
      " 2   time              63147 non-null  object        \n",
      " 3   client_name       63147 non-null  object        \n",
      " 4   order_direction   63147 non-null  object        \n",
      " 5   material_name     63147 non-null  object        \n",
      " 6   container_volumn  63147 non-null  float64       \n",
      " 7   date_time         63147 non-null  datetime64[ns]\n",
      "dtypes: datetime64[ns](1), float64(1), object(6)\n",
      "memory usage: 3.9+ MB\n"
     ]
    }
   ],
   "source": [
    "df.info()"
   ]
  },
  {
   "cell_type": "code",
   "execution_count": 7,
   "id": "8ebd5c4e",
   "metadata": {},
   "outputs": [],
   "source": [
    "df = df[['date','container_volumn']].copy()"
   ]
  },
  {
   "cell_type": "code",
   "execution_count": 8,
   "id": "28884a16",
   "metadata": {},
   "outputs": [
    {
     "data": {
      "text/plain": [
       "date                0\n",
       "container_volumn    0\n",
       "dtype: int64"
      ]
     },
     "execution_count": 8,
     "metadata": {},
     "output_type": "execute_result"
    }
   ],
   "source": [
    "df.isnull().sum()"
   ]
  },
  {
   "cell_type": "code",
   "execution_count": 9,
   "id": "0984488e",
   "metadata": {},
   "outputs": [],
   "source": [
    "#df['container_volumn'] = df['container_volumn'].replace(0.0, pd.NA)"
   ]
  },
  {
   "cell_type": "code",
   "execution_count": 10,
   "id": "07f775d8",
   "metadata": {},
   "outputs": [
    {
     "data": {
      "text/html": [
       "<div>\n",
       "<style scoped>\n",
       "    .dataframe tbody tr th:only-of-type {\n",
       "        vertical-align: middle;\n",
       "    }\n",
       "\n",
       "    .dataframe tbody tr th {\n",
       "        vertical-align: top;\n",
       "    }\n",
       "\n",
       "    .dataframe thead th {\n",
       "        text-align: right;\n",
       "    }\n",
       "</style>\n",
       "<table border=\"1\" class=\"dataframe\">\n",
       "  <thead>\n",
       "    <tr style=\"text-align: right;\">\n",
       "      <th></th>\n",
       "      <th>date</th>\n",
       "      <th>container_volumn</th>\n",
       "    </tr>\n",
       "  </thead>\n",
       "  <tbody>\n",
       "    <tr>\n",
       "      <th>0</th>\n",
       "      <td>2023-04-24</td>\n",
       "      <td>11.0</td>\n",
       "    </tr>\n",
       "    <tr>\n",
       "      <th>1</th>\n",
       "      <td>2023-04-24</td>\n",
       "      <td>11.0</td>\n",
       "    </tr>\n",
       "    <tr>\n",
       "      <th>2</th>\n",
       "      <td>2022-08-10</td>\n",
       "      <td>11.0</td>\n",
       "    </tr>\n",
       "    <tr>\n",
       "      <th>3</th>\n",
       "      <td>2022-08-23</td>\n",
       "      <td>11.0</td>\n",
       "    </tr>\n",
       "    <tr>\n",
       "      <th>4</th>\n",
       "      <td>2022-08-24</td>\n",
       "      <td>11.0</td>\n",
       "    </tr>\n",
       "  </tbody>\n",
       "</table>\n",
       "</div>"
      ],
      "text/plain": [
       "         date  container_volumn\n",
       "0  2023-04-24              11.0\n",
       "1  2023-04-24              11.0\n",
       "2  2022-08-10              11.0\n",
       "3  2022-08-23              11.0\n",
       "4  2022-08-24              11.0"
      ]
     },
     "execution_count": 10,
     "metadata": {},
     "output_type": "execute_result"
    }
   ],
   "source": [
    "df.head()"
   ]
  },
  {
   "cell_type": "code",
   "execution_count": 11,
   "id": "48b97180",
   "metadata": {},
   "outputs": [
    {
     "data": {
      "text/plain": [
       "(63147, 2)"
      ]
     },
     "execution_count": 11,
     "metadata": {},
     "output_type": "execute_result"
    }
   ],
   "source": [
    "df.shape"
   ]
  },
  {
   "cell_type": "markdown",
   "id": "ab39b98d",
   "metadata": {},
   "source": [
    "# df- data from 2021 till may 2023"
   ]
  },
  {
   "cell_type": "code",
   "execution_count": 12,
   "id": "7585feb1",
   "metadata": {},
   "outputs": [],
   "source": [
    "df['date'] = pd.to_datetime(df['date'])\n",
    "# Specify the specific date up to which you want the data\n",
    "specific_date = pd.to_datetime('2023-05-31')\n",
    "\n",
    "# Filter the DataFrame to keep data up to the specific date\n",
    "df = df[df['date'] <= specific_date].copy()"
   ]
  },
  {
   "cell_type": "code",
   "execution_count": 13,
   "id": "5e2b5027",
   "metadata": {},
   "outputs": [
    {
     "data": {
      "text/plain": [
       "(61151, 2)"
      ]
     },
     "execution_count": 13,
     "metadata": {},
     "output_type": "execute_result"
    }
   ],
   "source": [
    "df.shape"
   ]
  },
  {
   "cell_type": "code",
   "execution_count": 14,
   "id": "b16e8fd7",
   "metadata": {},
   "outputs": [],
   "source": [
    "df.to_csv('incoming_till_may23.csv', index=False, encoding='utf-8-sig')"
   ]
  },
  {
   "cell_type": "code",
   "execution_count": null,
   "id": "1361b62c",
   "metadata": {},
   "outputs": [],
   "source": []
  }
 ],
 "metadata": {
  "kernelspec": {
   "display_name": "Python 3 (ipykernel)",
   "language": "python",
   "name": "python3"
  },
  "language_info": {
   "codemirror_mode": {
    "name": "ipython",
    "version": 3
   },
   "file_extension": ".py",
   "mimetype": "text/x-python",
   "name": "python",
   "nbconvert_exporter": "python",
   "pygments_lexer": "ipython3",
   "version": "3.9.13"
  }
 },
 "nbformat": 4,
 "nbformat_minor": 5
}
