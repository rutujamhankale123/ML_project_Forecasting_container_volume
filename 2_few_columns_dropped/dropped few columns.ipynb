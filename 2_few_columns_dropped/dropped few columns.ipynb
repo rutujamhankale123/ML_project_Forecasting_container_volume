{
 "cells": [
  {
   "cell_type": "code",
   "execution_count": 19,
   "id": "f26e5da5",
   "metadata": {},
   "outputs": [],
   "source": [
    "import pandas as pd\n",
    "import numpy as np\n",
    "#Libraries for plotting graps, bars and plots\n",
    "import seaborn as sns\n",
    "sns.set(style=\"darkgrid\")\n",
    "import matplotlib.pyplot as plt\n",
    "%matplotlib inline"
   ]
  },
  {
   "cell_type": "code",
   "execution_count": 21,
   "id": "aa9ff12c",
   "metadata": {},
   "outputs": [
    {
     "data": {
      "text/html": [
       "<div>\n",
       "<style scoped>\n",
       "    .dataframe tbody tr th:only-of-type {\n",
       "        vertical-align: middle;\n",
       "    }\n",
       "\n",
       "    .dataframe tbody tr th {\n",
       "        vertical-align: top;\n",
       "    }\n",
       "\n",
       "    .dataframe thead th {\n",
       "        text-align: right;\n",
       "    }\n",
       "</style>\n",
       "<table border=\"1\" class=\"dataframe\">\n",
       "  <thead>\n",
       "    <tr style=\"text-align: right;\">\n",
       "      <th></th>\n",
       "      <th>delivery_date</th>\n",
       "      <th>date</th>\n",
       "      <th>timestamp</th>\n",
       "      <th>client_name</th>\n",
       "      <th>order_direction</th>\n",
       "      <th>container_name_cleaned</th>\n",
       "      <th>material_name</th>\n",
       "      <th>container_volumn</th>\n",
       "      <th>volume_unit</th>\n",
       "    </tr>\n",
       "  </thead>\n",
       "  <tbody>\n",
       "    <tr>\n",
       "      <th>0</th>\n",
       "      <td>2023-03-23T15:27:00.548Z</td>\n",
       "      <td>2023-03-23</td>\n",
       "      <td>15:27:00.548</td>\n",
       "      <td>Allgaier Containerservice</td>\n",
       "      <td>Stellen</td>\n",
       "      <td>3</td>\n",
       "      <td>gemischte Bau-/Abbruchabfälle</td>\n",
       "      <td>3</td>\n",
       "      <td>NaN</td>\n",
       "    </tr>\n",
       "    <tr>\n",
       "      <th>1</th>\n",
       "      <td>2023-03-28T15:14:29.000Z</td>\n",
       "      <td>2023-03-28</td>\n",
       "      <td>15:14:29.000</td>\n",
       "      <td>Allgaier Containerservice</td>\n",
       "      <td>Abziehen</td>\n",
       "      <td>3</td>\n",
       "      <td>gemischte Bau-/Abbruchabfälle</td>\n",
       "      <td>3</td>\n",
       "      <td>NaN</td>\n",
       "    </tr>\n",
       "    <tr>\n",
       "      <th>2</th>\n",
       "      <td>2023-01-13T07:46:26.750Z</td>\n",
       "      <td>2023-01-13</td>\n",
       "      <td>07:46:26.750</td>\n",
       "      <td>Allgaier Containerservice</td>\n",
       "      <td>Stellen</td>\n",
       "      <td>3</td>\n",
       "      <td>gemischt Abfälle zur Verwertung ( AzV )</td>\n",
       "      <td>3</td>\n",
       "      <td>NaN</td>\n",
       "    </tr>\n",
       "    <tr>\n",
       "      <th>3</th>\n",
       "      <td>2023-01-16T07:43:56.642Z</td>\n",
       "      <td>2023-01-16</td>\n",
       "      <td>07:43:56.642</td>\n",
       "      <td>Allgaier Containerservice</td>\n",
       "      <td>Abziehen</td>\n",
       "      <td>3</td>\n",
       "      <td>gemischt Abfälle zur Verwertung ( AzV )</td>\n",
       "      <td>3</td>\n",
       "      <td>NaN</td>\n",
       "    </tr>\n",
       "    <tr>\n",
       "      <th>4</th>\n",
       "      <td>2022-11-04T11:00:00.000Z</td>\n",
       "      <td>2022-11-04</td>\n",
       "      <td>11:00:00.000</td>\n",
       "      <td>Allgaier Containerservice</td>\n",
       "      <td>Stellen</td>\n",
       "      <td>3</td>\n",
       "      <td>Bauschutt</td>\n",
       "      <td>3</td>\n",
       "      <td>NaN</td>\n",
       "    </tr>\n",
       "  </tbody>\n",
       "</table>\n",
       "</div>"
      ],
      "text/plain": [
       "              delivery_date        date     timestamp  \\\n",
       "0  2023-03-23T15:27:00.548Z  2023-03-23  15:27:00.548   \n",
       "1  2023-03-28T15:14:29.000Z  2023-03-28  15:14:29.000   \n",
       "2  2023-01-13T07:46:26.750Z  2023-01-13  07:46:26.750   \n",
       "3  2023-01-16T07:43:56.642Z  2023-01-16  07:43:56.642   \n",
       "4  2022-11-04T11:00:00.000Z  2022-11-04  11:00:00.000   \n",
       "\n",
       "                 client_name order_direction container_name_cleaned  \\\n",
       "0  Allgaier Containerservice         Stellen                      3   \n",
       "1  Allgaier Containerservice        Abziehen                      3   \n",
       "2  Allgaier Containerservice         Stellen                      3   \n",
       "3  Allgaier Containerservice        Abziehen                      3   \n",
       "4  Allgaier Containerservice         Stellen                      3   \n",
       "\n",
       "                             material_name container_volumn volume_unit  \n",
       "0            gemischte Bau-/Abbruchabfälle                3         NaN  \n",
       "1            gemischte Bau-/Abbruchabfälle                3         NaN  \n",
       "2  gemischt Abfälle zur Verwertung ( AzV )                3         NaN  \n",
       "3  gemischt Abfälle zur Verwertung ( AzV )                3         NaN  \n",
       "4                                Bauschutt                3         NaN  "
      ]
     },
     "execution_count": 21,
     "metadata": {},
     "output_type": "execute_result"
    }
   ],
   "source": [
    "df = pd.read_csv(\"output_volume_forecasting_file_ready_new.csv\", encoding='utf-8')\n",
    "df.head()"
   ]
  },
  {
   "cell_type": "code",
   "execution_count": 22,
   "id": "1bb4ac94",
   "metadata": {},
   "outputs": [
    {
     "data": {
      "text/plain": [
       "delivery_date                 0\n",
       "date                          0\n",
       "timestamp                     0\n",
       "client_name                  38\n",
       "order_direction               0\n",
       "container_name_cleaned        2\n",
       "material_name                 1\n",
       "container_volumn           8979\n",
       "volume_unit               32048\n",
       "dtype: int64"
      ]
     },
     "execution_count": 22,
     "metadata": {},
     "output_type": "execute_result"
    }
   ],
   "source": [
    "df.isna().sum()"
   ]
  },
  {
   "cell_type": "code",
   "execution_count": 23,
   "id": "7a6e6536",
   "metadata": {},
   "outputs": [],
   "source": [
    "df=df[['delivery_date','date','timestamp','client_name','order_direction','material_name','container_volumn','volume_unit']]"
   ]
  },
  {
   "cell_type": "code",
   "execution_count": 24,
   "id": "80b3e1d0",
   "metadata": {},
   "outputs": [
    {
     "data": {
      "text/plain": [
       "delivery_date           0\n",
       "date                    0\n",
       "timestamp               0\n",
       "client_name            38\n",
       "order_direction         0\n",
       "material_name           1\n",
       "container_volumn     8979\n",
       "volume_unit         32048\n",
       "dtype: int64"
      ]
     },
     "execution_count": 24,
     "metadata": {},
     "output_type": "execute_result"
    }
   ],
   "source": [
    "df.isna().sum()"
   ]
  },
  {
   "cell_type": "code",
   "execution_count": 25,
   "id": "aedda57c",
   "metadata": {},
   "outputs": [
    {
     "data": {
      "text/plain": [
       "array(['3', '4', '5', '7', '10', '11', '12', '15', '17', '19', '21', '22',\n",
       "       '30', '36', '40', '44', '307', '891', '1000', '8011', '8012',\n",
       "       '8013', nan, '13', '60', '72', '20', '6', '0,22', '1', '1,1',\n",
       "       '1,25', '1,5', '1,7', '10,0', '1010', '1020', '1030', '1040',\n",
       "       '1060', '11,0', '12,0', '13209', '14,01', '14', '15,0', '152',\n",
       "       '16', '18', '2', '2,0', '2,5', '2,50', '2,7', '2,75', '27', '20,0',\n",
       "       '2010', '2020', '2030', '1.46667', '25', '28', '28,0', '24', '80',\n",
       "       '3,0', '3,5', '3,6', '317', '33', '34', '35', '37', '38', '4,5',\n",
       "       '65', '485', '5,0', '5,4', '5,5', '50', '51', '55', '6,8', '68',\n",
       "       '7,0', '7,5', '8', '8,0', '8,00', '81', '9', '90', '36,0', '10,6',\n",
       "       '12,5', '61', '39', '120', '240', '04', '05', '07', '23', '26',\n",
       "       '52', '53', '54', '08', '41', '200', '601', '9,0', '9,5', '13201',\n",
       "       '13202', '13203', '13204', '13205', '13206', '13207', '13208',\n",
       "       '13210', '13211', '13212', '13235', '13238', '13239', '13240',\n",
       "       '13245', '13249', '13250', '13263', '13283', '8002', '8003',\n",
       "       '8004', '8005', '8006', '8007', '8010', '8014', '8015', '8019',\n",
       "       '8020', '8024', '8025', '8050', '8052', '8055', '8059', '8079',\n",
       "       '8092', '8093', '8094', '8095', '8096'], dtype=object)"
      ]
     },
     "execution_count": 25,
     "metadata": {},
     "output_type": "execute_result"
    }
   ],
   "source": [
    "df['container_volumn'].unique()"
   ]
  },
  {
   "cell_type": "code",
   "execution_count": 26,
   "id": "b54df1a3",
   "metadata": {},
   "outputs": [
    {
     "data": {
      "text/plain": [
       "array([nan, 'm³', 'cbm', 'm3', 'm²', 'qbm'], dtype=object)"
      ]
     },
     "execution_count": 26,
     "metadata": {},
     "output_type": "execute_result"
    }
   ],
   "source": [
    "df['volume_unit'].unique()"
   ]
  },
  {
   "cell_type": "code",
   "execution_count": 27,
   "id": "09d62531",
   "metadata": {},
   "outputs": [
    {
     "data": {
      "text/plain": [
       "delivery_date           0\n",
       "date                    0\n",
       "timestamp               0\n",
       "client_name            38\n",
       "order_direction         0\n",
       "material_name           1\n",
       "container_volumn     8979\n",
       "volume_unit         32048\n",
       "dtype: int64"
      ]
     },
     "execution_count": 27,
     "metadata": {},
     "output_type": "execute_result"
    }
   ],
   "source": [
    "df.isna().sum()"
   ]
  },
  {
   "cell_type": "code",
   "execution_count": null,
   "id": "982abbda",
   "metadata": {},
   "outputs": [],
   "source": []
  },
  {
   "cell_type": "code",
   "execution_count": 28,
   "id": "169a7f13",
   "metadata": {},
   "outputs": [],
   "source": [
    "# Assuming you have a DataFrame called 'df' and a column named 'column_name'\n",
    "df.dropna(subset=['volume_unit'], inplace=True)"
   ]
  },
  {
   "cell_type": "code",
   "execution_count": 29,
   "id": "00a7f56c",
   "metadata": {},
   "outputs": [
    {
     "data": {
      "text/plain": [
       "delivery_date        0\n",
       "date                 0\n",
       "timestamp            0\n",
       "client_name         31\n",
       "order_direction      0\n",
       "material_name        1\n",
       "container_volumn     0\n",
       "volume_unit          0\n",
       "dtype: int64"
      ]
     },
     "execution_count": 29,
     "metadata": {},
     "output_type": "execute_result"
    }
   ],
   "source": [
    "df.isna().sum()"
   ]
  },
  {
   "cell_type": "code",
   "execution_count": 30,
   "id": "b7e1d267",
   "metadata": {},
   "outputs": [
    {
     "data": {
      "text/plain": [
       "array(['11', '13', '36', '60', '72', '10', '15', '17', '20', '3', '4',\n",
       "       '40', '5', '6', '7', '1', '1,1', '1,25', '1,5', '10,0', '11,0',\n",
       "       '12', '12,0', '14', '15,0', '16', '18', '2', '44', '2,0', '2,5',\n",
       "       '27', '20,0', '21', '22', '1.46667', '25', '28', '28,0', '24',\n",
       "       '80', '30', '3,0', '3,5', '3,6', '33', '34', '35', '37', '38',\n",
       "       '4,5', '65', '5,0', '5,4', '5,5', '68', '7,0', '7,5', '8', '8,0',\n",
       "       '8,00', '9', '90', '36,0', '12,5', '61', '39', '50', '05', '07',\n",
       "       '08', '55'], dtype=object)"
      ]
     },
     "execution_count": 30,
     "metadata": {},
     "output_type": "execute_result"
    }
   ],
   "source": [
    "df['container_volumn'].unique()"
   ]
  },
  {
   "cell_type": "code",
   "execution_count": 31,
   "id": "f40a2537",
   "metadata": {},
   "outputs": [
    {
     "data": {
      "text/plain": [
       "(139932, 8)"
      ]
     },
     "execution_count": 31,
     "metadata": {},
     "output_type": "execute_result"
    }
   ],
   "source": [
    "df.shape"
   ]
  },
  {
   "cell_type": "code",
   "execution_count": 32,
   "id": "7bc2f2be",
   "metadata": {},
   "outputs": [],
   "source": [
    "# Assuming you have a DataFrame called 'df' and a column named 'column_name'\n",
    "df.dropna(subset=['client_name'], inplace=True)"
   ]
  },
  {
   "cell_type": "code",
   "execution_count": 33,
   "id": "730dc5e4",
   "metadata": {},
   "outputs": [],
   "source": [
    "# Assuming you have a DataFrame called 'df' and a column named 'column_name'\n",
    "df.dropna(subset=['material_name'], inplace=True)"
   ]
  },
  {
   "cell_type": "code",
   "execution_count": 34,
   "id": "61491d30",
   "metadata": {},
   "outputs": [
    {
     "data": {
      "text/plain": [
       "(139900, 8)"
      ]
     },
     "execution_count": 34,
     "metadata": {},
     "output_type": "execute_result"
    }
   ],
   "source": [
    "df.shape"
   ]
  },
  {
   "cell_type": "code",
   "execution_count": 35,
   "id": "865fc729",
   "metadata": {},
   "outputs": [
    {
     "data": {
      "text/plain": [
       "array(['11', '13', '36', '60', '72', '10', '15', '17', '20', '3', '4',\n",
       "       '40', '5', '6', '7', '1', '1,1', '1,25', '1,5', '10,0', '11,0',\n",
       "       '12', '12,0', '14', '15,0', '16', '18', '2', '44', '2,0', '2,5',\n",
       "       '27', '20,0', '21', '22', '1.46667', '25', '28', '28,0', '24',\n",
       "       '80', '30', '3,0', '3,5', '3,6', '33', '34', '35', '37', '38',\n",
       "       '4,5', '65', '5,0', '5,4', '5,5', '68', '7,0', '7,5', '8', '8,0',\n",
       "       '8,00', '9', '90', '36,0', '12,5', '61', '39', '50', '05', '07',\n",
       "       '08', '55'], dtype=object)"
      ]
     },
     "execution_count": 35,
     "metadata": {},
     "output_type": "execute_result"
    }
   ],
   "source": [
    "df['container_volumn'].unique()"
   ]
  },
  {
   "cell_type": "code",
   "execution_count": 36,
   "id": "168c0cf1",
   "metadata": {},
   "outputs": [],
   "source": [
    "df.to_csv('op.csv', index=False, encoding='utf-8-sig')"
   ]
  },
  {
   "cell_type": "code",
   "execution_count": 37,
   "id": "983df6bf",
   "metadata": {},
   "outputs": [
    {
     "data": {
      "text/html": [
       "<div>\n",
       "<style scoped>\n",
       "    .dataframe tbody tr th:only-of-type {\n",
       "        vertical-align: middle;\n",
       "    }\n",
       "\n",
       "    .dataframe tbody tr th {\n",
       "        vertical-align: top;\n",
       "    }\n",
       "\n",
       "    .dataframe thead th {\n",
       "        text-align: right;\n",
       "    }\n",
       "</style>\n",
       "<table border=\"1\" class=\"dataframe\">\n",
       "  <thead>\n",
       "    <tr style=\"text-align: right;\">\n",
       "      <th></th>\n",
       "      <th>delivery_date</th>\n",
       "      <th>date</th>\n",
       "      <th>timestamp</th>\n",
       "      <th>client_name</th>\n",
       "      <th>order_direction</th>\n",
       "      <th>material_name</th>\n",
       "      <th>container_volumn</th>\n",
       "      <th>volume_unit</th>\n",
       "    </tr>\n",
       "  </thead>\n",
       "  <tbody>\n",
       "    <tr>\n",
       "      <th>2504</th>\n",
       "      <td>2023-05-10T05:41:28.000Z</td>\n",
       "      <td>2023-05-10</td>\n",
       "      <td>05:41:28.000</td>\n",
       "      <td>STG Transport &amp; Containerdienst GmbH</td>\n",
       "      <td>Stellen</td>\n",
       "      <td>Sand 0-2</td>\n",
       "      <td>11</td>\n",
       "      <td>m³</td>\n",
       "    </tr>\n",
       "    <tr>\n",
       "      <th>2505</th>\n",
       "      <td>2023-04-24T08:06:58.799Z</td>\n",
       "      <td>2023-04-24</td>\n",
       "      <td>08:06:58.799</td>\n",
       "      <td>STG Transport &amp; Containerdienst GmbH</td>\n",
       "      <td>Abziehen</td>\n",
       "      <td>Sand 0-2</td>\n",
       "      <td>11</td>\n",
       "      <td>m³</td>\n",
       "    </tr>\n",
       "    <tr>\n",
       "      <th>2506</th>\n",
       "      <td>2023-04-24T22:00:00.000Z</td>\n",
       "      <td>2023-04-24</td>\n",
       "      <td>22:00:00.000</td>\n",
       "      <td>STG Transport &amp; Containerdienst GmbH</td>\n",
       "      <td>Abziehen</td>\n",
       "      <td>Sand 0-2</td>\n",
       "      <td>11</td>\n",
       "      <td>m³</td>\n",
       "    </tr>\n",
       "    <tr>\n",
       "      <th>2507</th>\n",
       "      <td>2022-09-14T10:00:00.000Z</td>\n",
       "      <td>2022-09-14</td>\n",
       "      <td>10:00:00.000</td>\n",
       "      <td>STG Transport &amp; Containerdienst GmbH</td>\n",
       "      <td>Materiallieferung</td>\n",
       "      <td>Sand 0-2</td>\n",
       "      <td>11</td>\n",
       "      <td>m³</td>\n",
       "    </tr>\n",
       "    <tr>\n",
       "      <th>2508</th>\n",
       "      <td>2022-09-14T10:00:00.000Z</td>\n",
       "      <td>2022-09-14</td>\n",
       "      <td>10:00:00.000</td>\n",
       "      <td>STG Transport &amp; Containerdienst GmbH</td>\n",
       "      <td>Materiallieferung</td>\n",
       "      <td>Sand 0-2</td>\n",
       "      <td>11</td>\n",
       "      <td>m³</td>\n",
       "    </tr>\n",
       "  </tbody>\n",
       "</table>\n",
       "</div>"
      ],
      "text/plain": [
       "                 delivery_date        date     timestamp  \\\n",
       "2504  2023-05-10T05:41:28.000Z  2023-05-10  05:41:28.000   \n",
       "2505  2023-04-24T08:06:58.799Z  2023-04-24  08:06:58.799   \n",
       "2506  2023-04-24T22:00:00.000Z  2023-04-24  22:00:00.000   \n",
       "2507  2022-09-14T10:00:00.000Z  2022-09-14  10:00:00.000   \n",
       "2508  2022-09-14T10:00:00.000Z  2022-09-14  10:00:00.000   \n",
       "\n",
       "                               client_name    order_direction material_name  \\\n",
       "2504  STG Transport & Containerdienst GmbH            Stellen      Sand 0-2   \n",
       "2505  STG Transport & Containerdienst GmbH           Abziehen      Sand 0-2   \n",
       "2506  STG Transport & Containerdienst GmbH           Abziehen      Sand 0-2   \n",
       "2507  STG Transport & Containerdienst GmbH  Materiallieferung      Sand 0-2   \n",
       "2508  STG Transport & Containerdienst GmbH  Materiallieferung      Sand 0-2   \n",
       "\n",
       "     container_volumn volume_unit  \n",
       "2504               11          m³  \n",
       "2505               11          m³  \n",
       "2506               11          m³  \n",
       "2507               11          m³  \n",
       "2508               11          m³  "
      ]
     },
     "execution_count": 37,
     "metadata": {},
     "output_type": "execute_result"
    }
   ],
   "source": [
    "df.head()"
   ]
  },
  {
   "cell_type": "code",
   "execution_count": null,
   "id": "0bccc4a3",
   "metadata": {},
   "outputs": [],
   "source": []
  }
 ],
 "metadata": {
  "kernelspec": {
   "display_name": "Python 3 (ipykernel)",
   "language": "python",
   "name": "python3"
  },
  "language_info": {
   "codemirror_mode": {
    "name": "ipython",
    "version": 3
   },
   "file_extension": ".py",
   "mimetype": "text/x-python",
   "name": "python",
   "nbconvert_exporter": "python",
   "pygments_lexer": "ipython3",
   "version": "3.9.13"
  }
 },
 "nbformat": 4,
 "nbformat_minor": 5
}
